{
 "cells": [
  {
   "cell_type": "markdown",
   "id": "780fe7e9",
   "metadata": {},
   "source": [
    "## Librairies\n",
    "\n",
    "Import all the librairies required for the program"
   ]
  },
  {
   "cell_type": "code",
   "execution_count": 1,
   "id": "b63fb3a0",
   "metadata": {},
   "outputs": [],
   "source": [
    "import pandas as pd\n",
    "import datetime as dt\n",
    "from pymongo import MongoClient\n",
    "\n",
    "import gspread\n",
    "from google.oauth2 import service_account\n",
    "from googleapiclient.discovery import build\n",
    "\n",
    "from gspread_dataframe import set_with_dataframe"
   ]
  },
  {
   "cell_type": "markdown",
   "id": "df11350e",
   "metadata": {},
   "source": [
    "## Configurations\n",
    "\n",
    "Set up the several connexion required to run the notebook (Databases, API, etc.)"
   ]
  },
  {
   "cell_type": "markdown",
   "id": "210dbc8f",
   "metadata": {},
   "source": [
    "### MongoDB Cursor"
   ]
  },
  {
   "cell_type": "code",
   "execution_count": null,
   "id": "15314e39",
   "metadata": {},
   "outputs": [],
   "source": [
    "db_user_name = 'your_db_username'\n",
    "db_password = 'your_db_password'\n",
    "db_name = 'your_db_name'\n",
    "db_host = 'your_db_host'\n",
    "db_port = 'your_db_port'"
   ]
  },
  {
   "cell_type": "code",
   "execution_count": null,
   "id": "79ae9d69",
   "metadata": {},
   "outputs": [],
   "source": [
    "mg_client = MongoClient(f'mongodb://{db_user_name}:{db_password}@{db_host}:{db_port}')\n",
    "mg_db = mg_client[db_name]"
   ]
  },
  {
   "cell_type": "markdown",
   "id": "fc593e6d",
   "metadata": {},
   "source": [
    "### Google APIs"
   ]
  },
  {
   "cell_type": "code",
   "execution_count": null,
   "id": "b021439e",
   "metadata": {},
   "outputs": [],
   "source": [
    "scopes = [\n",
    "    'https://www.googleapis.com/auth/spreadsheets',\n",
    "    'https://www.googleapis.com/auth/drive'\n",
    "]\n",
    "\n",
    "path_to_service_account_json = '/the/full/location/of/your/service/account/credentials.json'\n",
    "sa_credentials = service_account.Credentials.from_service_account_file(path_to_service_account_json)\n",
    "\n",
    "sa_creds = sa_credentials.with_scopes(scopes)\n",
    "gw_client = gspread.authorize(credentials = sa_creds)"
   ]
  },
  {
   "cell_type": "markdown",
   "id": "b2f26ab7",
   "metadata": {},
   "source": [
    "## Functions\n",
    "\n",
    "Define all the functions that will be used within the program"
   ]
  },
  {
   "cell_type": "code",
   "execution_count": 4,
   "id": "5e24eb06",
   "metadata": {},
   "outputs": [],
   "source": [
    "def create_sheet_get_id(sheet_title, folder_id, service_account_creds):\n",
    "    '''\n",
    "    This function will create a new google sheet file within a specific doogle drive folder.\n",
    "    Args:\n",
    "        sheet_title (str): The title of the new Google Sheet.( E.g. Tuto - Python x Google Sheets)\n",
    "        folder_id (str): The ID of the Google Drive folder where the sheet will be created. If the link of the drive folder is https://drive.google.com/drive/folders/1a2b3c4d5e6f7g8h9i0j, then the folder_id is 1a2b3c4d5e6f7g8h9i0j.\n",
    "        service_account_creds (service_account.Credentials): The service account credentials to authenticate with Google Drive API.\n",
    "    '''\n",
    "    drive_api = build('drive', 'v3', credentials=service_account_creds)\n",
    "\n",
    "    # Check if arguments are valid\n",
    "    if not folder_id:\n",
    "        raise ValueError(\"Folder ID cannot be empty.\")\n",
    "    if not isinstance(folder_id, str):\n",
    "        raise TypeError(\"Folder ID must be a string.\")\n",
    "    folder_metadata = drive_api.files().get(fileId=folder_id, fields='id').execute()\n",
    "    if not folder_metadata:\n",
    "        raise ValueError(f\"Folder with ID {folder_id} does not exist.\")\n",
    "\n",
    "    if not sheet_title:\n",
    "        raise ValueError(\"Sheet title cannot be empty.\")\n",
    "    if not isinstance(sheet_title, str):\n",
    "        raise TypeError(\"Sheet title must be a string.\")\n",
    "\n",
    "    if not service_account_creds:\n",
    "        raise ValueError(\"Service account credentials cannot be empty.\")\n",
    "    if not isinstance(service_account_creds, service_account.Credentials):\n",
    "        raise TypeError(\"Service account credentials must be an instance of service_account.Credentials.\")\n",
    "\n",
    "    # Create the new Google Sheet\n",
    "    file_metadata = {'name': sheet_title, 'parents': [folder_id], 'mimeType': 'application/vnd.google-apps.spreadsheet',}\n",
    "    newsheet = drive_api.files().create(body=file_metadata).execute()\n",
    "    sheet_id = newsheet['id']\n",
    "    \n",
    "    return sheet_id"
   ]
  },
  {
   "cell_type": "code",
   "execution_count": 27,
   "id": "6a00caab",
   "metadata": {},
   "outputs": [],
   "source": [
    "def fill_sheet_with_pandas_dataframes(sheet_id, data_frames_dict, service_account_creds):\n",
    "    '''\n",
    "    This function will fill a Google Sheet with data.\n",
    "    Args:\n",
    "        sheet_id (str): The ID of the Google Sheet to fill with data.\n",
    "        data_frames_dict (dict): The data to fill the Google Sheet with. It should be a dictionary where keys are sheet names and values are pandas DataFrames.\n",
    "        service_account_creds (service_account.Credentials): The service account credentials to authenticate with Google Sheets API.\n",
    "    '''\n",
    "    if not sheet_id:\n",
    "        raise ValueError(\"Sheet ID cannot be empty.\")\n",
    "    if not isinstance(sheet_id, str):\n",
    "        raise TypeError(\"Sheet ID must be a string.\")\n",
    "    if not service_account_creds:\n",
    "        raise ValueError(\"Service account credentials cannot be empty.\")\n",
    "    if not isinstance(service_account_creds, service_account.Credentials):\n",
    "        raise TypeError(\"Service account credentials must be an instance of service_account.Credentials.\")\n",
    "    \n",
    "    # Authorize the Google Sheets API\n",
    "    gw_client = gspread.authorize(credentials=service_account_creds)\n",
    "    workbook = gw_client.open_by_key(sheet_id)\n",
    "    for sheet_name, df in data_frames_dict.items():\n",
    "        if not isinstance(df, pd.DataFrame):\n",
    "            raise TypeError(f\"Data for sheet '{sheet_name}' must be a pandas DataFrame.\")\n",
    "        \n",
    "        # Clear the existing content of the sheet\n",
    "        try:\n",
    "            worksheet = workbook.worksheet(sheet_name)\n",
    "            worksheet.clear()\n",
    "        except gspread.WorksheetNotFound:\n",
    "            worksheet = workbook.add_worksheet(title=sheet_name, rows=\"100\", cols=\"20\")\n",
    "        \n",
    "        # Set the DataFrame to the Google Sheet\n",
    "        set_with_dataframe(worksheet, df, include_index=False, include_column_header=True)\n",
    "        print(f\"Data for sheet '{sheet_name}' has been written to the Google Sheet.\")\n",
    "    \n",
    "    sheet_to_delete = workbook.worksheet(\"Sheet1\") # Delete the default sheet created by Google Sheets\n",
    "    workbook.del_worksheet(sheet_to_delete)  "
   ]
  },
  {
   "cell_type": "code",
   "execution_count": 31,
   "id": "056d22c0",
   "metadata": {},
   "outputs": [],
   "source": [
    "def share_google_sheet_with_message(sheet_id, email_list, acess, service_account_creds, message=\"\"):\n",
    "    # Authenticate with service account\n",
    "    drive_service = build('drive', 'v3', credentials=service_account_creds)\n",
    "\n",
    "    for email_to_share in email_list:\n",
    "        # Create permission\n",
    "        permission = {\n",
    "            'type': 'user',\n",
    "            'role':  acess, #'reader',\n",
    "            'emailAddress': email_to_share\n",
    "        }\n",
    "\n",
    "        # Share the file\n",
    "        drive_service.permissions().create(\n",
    "            fileId=sheet_id,\n",
    "            body=permission,\n",
    "            sendNotificationEmail=True,\n",
    "            emailMessage=message\n",
    "        ).execute()\n",
    "\n",
    "    print(f\"Google Sheet shared with {email_to_share} as {acess}.\")"
   ]
  },
  {
   "cell_type": "markdown",
   "id": "e2454535",
   "metadata": {},
   "source": [
    "## Variables\n",
    "\n",
    "Declare all the variables that will be used within the program. Here we decide to process the data on daily basis."
   ]
  },
  {
   "cell_type": "code",
   "execution_count": 6,
   "id": "ce932274",
   "metadata": {},
   "outputs": [],
   "source": [
    "yesterday_start_datetime = dt.datetime.now().replace(hour=0, minute=0, second=0, microsecond=0) - dt.timedelta(days=1)\n",
    "today_start_datetime = dt.datetime.now().replace(hour=0, minute=0, second=0, microsecond=0)"
   ]
  },
  {
   "cell_type": "markdown",
   "id": "b5c6b09f",
   "metadata": {},
   "source": [
    "## Data Extraction & Processing\n",
    "\n",
    "Extract the needed data from the database and process them to generate the needed insights"
   ]
  },
  {
   "cell_type": "markdown",
   "id": "d914114f",
   "metadata": {},
   "source": [
    "### New accounts (registration)"
   ]
  },
  {
   "cell_type": "code",
   "execution_count": 7,
   "id": "af638f7a",
   "metadata": {},
   "outputs": [],
   "source": [
    "new_accounts_via_agents_ = mg_db['dim_customers'].aggregate([\n",
    "    {\n",
    "        '$match': {\n",
    "            'created_at': {\n",
    "                '$gte': yesterday_start_datetime, \n",
    "                '$lt': today_start_datetime\n",
    "            }, \n",
    "            'agent_id': {\n",
    "                '$ne': None\n",
    "            }\n",
    "        }\n",
    "    }, {\n",
    "        '$lookup': {\n",
    "            'from': 'dim_agents', \n",
    "            'localField': 'agent_id', \n",
    "            'foreignField': 'unique_id', \n",
    "            'as': 'agents_details'\n",
    "        }\n",
    "    }, {\n",
    "        '$unwind': {\n",
    "            'path': '$agents_details', \n",
    "            'preserveNullAndEmptyArrays': True\n",
    "        }\n",
    "    }, {\n",
    "        '$project': {\n",
    "            '_id': 0, \n",
    "            'Registration_Date': '$created_at', \n",
    "            'Customer_ID': '$unique_id', \n",
    "            'Agent_ID': {'$toInt': '$agent_id'}, \n",
    "            'Agent_WalletNumber': '$agents_details.wallet_number'\n",
    "        }\n",
    "    }\n",
    "])\n",
    "\n",
    "new_accounts_via_agents = pd.DataFrame(list(new_accounts_via_agents_))"
   ]
  },
  {
   "cell_type": "code",
   "execution_count": 8,
   "id": "cad74879",
   "metadata": {},
   "outputs": [
    {
     "data": {
      "text/html": [
       "<div>\n",
       "<style scoped>\n",
       "    .dataframe tbody tr th:only-of-type {\n",
       "        vertical-align: middle;\n",
       "    }\n",
       "\n",
       "    .dataframe tbody tr th {\n",
       "        vertical-align: top;\n",
       "    }\n",
       "\n",
       "    .dataframe thead th {\n",
       "        text-align: right;\n",
       "    }\n",
       "</style>\n",
       "<table border=\"1\" class=\"dataframe\">\n",
       "  <thead>\n",
       "    <tr style=\"text-align: right;\">\n",
       "      <th></th>\n",
       "      <th>Registration_Date</th>\n",
       "      <th>Customer_ID</th>\n",
       "      <th>Agent_ID</th>\n",
       "      <th>Agent_WalletNumber</th>\n",
       "    </tr>\n",
       "  </thead>\n",
       "  <tbody>\n",
       "    <tr>\n",
       "      <th>0</th>\n",
       "      <td>2025-05-30 07:07:50.237</td>\n",
       "      <td>2193</td>\n",
       "      <td>62</td>\n",
       "      <td>22901200000062</td>\n",
       "    </tr>\n",
       "    <tr>\n",
       "      <th>1</th>\n",
       "      <td>2025-05-30 05:09:28.798</td>\n",
       "      <td>20797</td>\n",
       "      <td>22</td>\n",
       "      <td>22901200000022</td>\n",
       "    </tr>\n",
       "    <tr>\n",
       "      <th>2</th>\n",
       "      <td>2025-05-30 04:40:47.727</td>\n",
       "      <td>25199</td>\n",
       "      <td>32</td>\n",
       "      <td>22901200000032</td>\n",
       "    </tr>\n",
       "    <tr>\n",
       "      <th>3</th>\n",
       "      <td>2025-05-30 12:25:11.658</td>\n",
       "      <td>15871</td>\n",
       "      <td>98</td>\n",
       "      <td>22901200000098</td>\n",
       "    </tr>\n",
       "    <tr>\n",
       "      <th>4</th>\n",
       "      <td>2025-05-30 00:27:04.015</td>\n",
       "      <td>7508</td>\n",
       "      <td>30</td>\n",
       "      <td>22901200000030</td>\n",
       "    </tr>\n",
       "  </tbody>\n",
       "</table>\n",
       "</div>"
      ],
      "text/plain": [
       "        Registration_Date  Customer_ID  Agent_ID Agent_WalletNumber\n",
       "0 2025-05-30 07:07:50.237         2193        62     22901200000062\n",
       "1 2025-05-30 05:09:28.798        20797        22     22901200000022\n",
       "2 2025-05-30 04:40:47.727        25199        32     22901200000032\n",
       "3 2025-05-30 12:25:11.658        15871        98     22901200000098\n",
       "4 2025-05-30 00:27:04.015         7508        30     22901200000030"
      ]
     },
     "execution_count": 8,
     "metadata": {},
     "output_type": "execute_result"
    }
   ],
   "source": [
    "new_accounts_via_agents.head()"
   ]
  },
  {
   "cell_type": "code",
   "execution_count": 9,
   "id": "be3e82b3",
   "metadata": {},
   "outputs": [
    {
     "data": {
      "text/html": [
       "<div>\n",
       "<style scoped>\n",
       "    .dataframe tbody tr th:only-of-type {\n",
       "        vertical-align: middle;\n",
       "    }\n",
       "\n",
       "    .dataframe tbody tr th {\n",
       "        vertical-align: top;\n",
       "    }\n",
       "\n",
       "    .dataframe thead th {\n",
       "        text-align: right;\n",
       "    }\n",
       "</style>\n",
       "<table border=\"1\" class=\"dataframe\">\n",
       "  <thead>\n",
       "    <tr style=\"text-align: right;\">\n",
       "      <th></th>\n",
       "      <th>Agent_ID</th>\n",
       "      <th>Agent_WalletNumber</th>\n",
       "      <th>Registration_Wage</th>\n",
       "    </tr>\n",
       "  </thead>\n",
       "  <tbody>\n",
       "    <tr>\n",
       "      <th>0</th>\n",
       "      <td>1</td>\n",
       "      <td>22901200000001</td>\n",
       "      <td>5.98</td>\n",
       "    </tr>\n",
       "    <tr>\n",
       "      <th>1</th>\n",
       "      <td>2</td>\n",
       "      <td>22901200000002</td>\n",
       "      <td>8.97</td>\n",
       "    </tr>\n",
       "    <tr>\n",
       "      <th>2</th>\n",
       "      <td>3</td>\n",
       "      <td>22901200000003</td>\n",
       "      <td>11.96</td>\n",
       "    </tr>\n",
       "    <tr>\n",
       "      <th>3</th>\n",
       "      <td>4</td>\n",
       "      <td>22901200000004</td>\n",
       "      <td>2.99</td>\n",
       "    </tr>\n",
       "    <tr>\n",
       "      <th>4</th>\n",
       "      <td>6</td>\n",
       "      <td>22901200000006</td>\n",
       "      <td>5.98</td>\n",
       "    </tr>\n",
       "  </tbody>\n",
       "</table>\n",
       "</div>"
      ],
      "text/plain": [
       "   Agent_ID Agent_WalletNumber  Registration_Wage\n",
       "0         1     22901200000001               5.98\n",
       "1         2     22901200000002               8.97\n",
       "2         3     22901200000003              11.96\n",
       "3         4     22901200000004               2.99\n",
       "4         6     22901200000006               5.98"
      ]
     },
     "execution_count": 9,
     "metadata": {},
     "output_type": "execute_result"
    }
   ],
   "source": [
    "new_accounts_via_agents['Registration_Wage'] = 2.99\n",
    "registration_fees = new_accounts_via_agents[['Agent_ID', 'Agent_WalletNumber', 'Registration_Wage']].groupby(['Agent_ID', 'Agent_WalletNumber']).sum().reset_index()\n",
    "registration_fees.head()"
   ]
  },
  {
   "cell_type": "markdown",
   "id": "1c86aec3",
   "metadata": {},
   "source": [
    "### First deposit (new clients operation)"
   ]
  },
  {
   "cell_type": "code",
   "execution_count": 10,
   "id": "1fb9b2d7",
   "metadata": {},
   "outputs": [],
   "source": [
    "first_deposit_via_agents_ = mg_db['fct_top_ups'].aggregate([\n",
    "    {\n",
    "        '$match': {\n",
    "            'completed_at': {\n",
    "                '$gte': yesterday_start_datetime, \n",
    "                '$lt': today_start_datetime\n",
    "            }, \n",
    "            'agent_id': {\n",
    "                '$ne': None\n",
    "            }, \n",
    "            'is_completed': True, \n",
    "            'is_first_top_up': True\n",
    "        }\n",
    "    }, {\n",
    "        '$lookup': {\n",
    "            'from': 'dim_agents', \n",
    "            'localField': 'agent_id', \n",
    "            'foreignField': 'unique_id', \n",
    "            'as': 'agents_details'\n",
    "        }\n",
    "    }, {\n",
    "        '$unwind': {\n",
    "            'path': '$agents_details', \n",
    "            'preserveNullAndEmptyArrays': True\n",
    "        }\n",
    "    }, {\n",
    "        '$project': {\n",
    "            '_id': 0, \n",
    "            'FirstDeposit_Date': '$completed_at', \n",
    "            'FirstDeposit_Amount': '$amount',\n",
    "            'Customer_ID': '$customer_id', \n",
    "            'Agent_ID': {'$toInt': '$agent_id'}, \n",
    "            'Agent_WalletNumber': '$agents_details.wallet_number'\n",
    "        }\n",
    "    }\n",
    "])\n",
    "\n",
    "first_deposit_via_agents = pd.DataFrame(list(first_deposit_via_agents_))"
   ]
  },
  {
   "cell_type": "code",
   "execution_count": 11,
   "id": "379954a3",
   "metadata": {},
   "outputs": [
    {
     "data": {
      "text/html": [
       "<div>\n",
       "<style scoped>\n",
       "    .dataframe tbody tr th:only-of-type {\n",
       "        vertical-align: middle;\n",
       "    }\n",
       "\n",
       "    .dataframe tbody tr th {\n",
       "        vertical-align: top;\n",
       "    }\n",
       "\n",
       "    .dataframe thead th {\n",
       "        text-align: right;\n",
       "    }\n",
       "</style>\n",
       "<table border=\"1\" class=\"dataframe\">\n",
       "  <thead>\n",
       "    <tr style=\"text-align: right;\">\n",
       "      <th></th>\n",
       "      <th>FirstDeposit_Date</th>\n",
       "      <th>FirstDeposit_Amount</th>\n",
       "      <th>Customer_ID</th>\n",
       "      <th>Agent_ID</th>\n",
       "      <th>Agent_WalletNumber</th>\n",
       "    </tr>\n",
       "  </thead>\n",
       "  <tbody>\n",
       "    <tr>\n",
       "      <th>0</th>\n",
       "      <td>2025-05-30 00:30:33.399</td>\n",
       "      <td>20.0</td>\n",
       "      <td>6674</td>\n",
       "      <td>84</td>\n",
       "      <td>22901200000084</td>\n",
       "    </tr>\n",
       "    <tr>\n",
       "      <th>1</th>\n",
       "      <td>2025-05-30 00:53:55.822</td>\n",
       "      <td>8.0</td>\n",
       "      <td>17878</td>\n",
       "      <td>20</td>\n",
       "      <td>22901200000020</td>\n",
       "    </tr>\n",
       "    <tr>\n",
       "      <th>2</th>\n",
       "      <td>2025-05-30 02:24:27.985</td>\n",
       "      <td>0.4</td>\n",
       "      <td>25757</td>\n",
       "      <td>39</td>\n",
       "      <td>22901200000039</td>\n",
       "    </tr>\n",
       "    <tr>\n",
       "      <th>3</th>\n",
       "      <td>2025-05-30 04:57:12.219</td>\n",
       "      <td>4.0</td>\n",
       "      <td>21818</td>\n",
       "      <td>94</td>\n",
       "      <td>22901200000094</td>\n",
       "    </tr>\n",
       "    <tr>\n",
       "      <th>4</th>\n",
       "      <td>2025-05-30 06:04:49.662</td>\n",
       "      <td>8.0</td>\n",
       "      <td>634</td>\n",
       "      <td>60</td>\n",
       "      <td>22901200000060</td>\n",
       "    </tr>\n",
       "  </tbody>\n",
       "</table>\n",
       "</div>"
      ],
      "text/plain": [
       "        FirstDeposit_Date  FirstDeposit_Amount  Customer_ID  Agent_ID  \\\n",
       "0 2025-05-30 00:30:33.399                 20.0         6674        84   \n",
       "1 2025-05-30 00:53:55.822                  8.0        17878        20   \n",
       "2 2025-05-30 02:24:27.985                  0.4        25757        39   \n",
       "3 2025-05-30 04:57:12.219                  4.0        21818        94   \n",
       "4 2025-05-30 06:04:49.662                  8.0          634        60   \n",
       "\n",
       "  Agent_WalletNumber  \n",
       "0     22901200000084  \n",
       "1     22901200000020  \n",
       "2     22901200000039  \n",
       "3     22901200000094  \n",
       "4     22901200000060  "
      ]
     },
     "execution_count": 11,
     "metadata": {},
     "output_type": "execute_result"
    }
   ],
   "source": [
    "first_deposit_via_agents.head()"
   ]
  },
  {
   "cell_type": "code",
   "execution_count": 12,
   "id": "9c9378f7",
   "metadata": {},
   "outputs": [
    {
     "data": {
      "text/html": [
       "<div>\n",
       "<style scoped>\n",
       "    .dataframe tbody tr th:only-of-type {\n",
       "        vertical-align: middle;\n",
       "    }\n",
       "\n",
       "    .dataframe tbody tr th {\n",
       "        vertical-align: top;\n",
       "    }\n",
       "\n",
       "    .dataframe thead th {\n",
       "        text-align: right;\n",
       "    }\n",
       "</style>\n",
       "<table border=\"1\" class=\"dataframe\">\n",
       "  <thead>\n",
       "    <tr style=\"text-align: right;\">\n",
       "      <th></th>\n",
       "      <th>Agent_ID</th>\n",
       "      <th>Agent_WalletNumber</th>\n",
       "      <th>Deposit_Wage</th>\n",
       "    </tr>\n",
       "  </thead>\n",
       "  <tbody>\n",
       "    <tr>\n",
       "      <th>0</th>\n",
       "      <td>1</td>\n",
       "      <td>22901200000001</td>\n",
       "      <td>3.98</td>\n",
       "    </tr>\n",
       "    <tr>\n",
       "      <th>1</th>\n",
       "      <td>2</td>\n",
       "      <td>22901200000002</td>\n",
       "      <td>1.99</td>\n",
       "    </tr>\n",
       "    <tr>\n",
       "      <th>2</th>\n",
       "      <td>3</td>\n",
       "      <td>22901200000003</td>\n",
       "      <td>1.99</td>\n",
       "    </tr>\n",
       "    <tr>\n",
       "      <th>3</th>\n",
       "      <td>5</td>\n",
       "      <td>22901200000005</td>\n",
       "      <td>1.99</td>\n",
       "    </tr>\n",
       "    <tr>\n",
       "      <th>4</th>\n",
       "      <td>6</td>\n",
       "      <td>22901200000006</td>\n",
       "      <td>1.99</td>\n",
       "    </tr>\n",
       "  </tbody>\n",
       "</table>\n",
       "</div>"
      ],
      "text/plain": [
       "   Agent_ID Agent_WalletNumber  Deposit_Wage\n",
       "0         1     22901200000001          3.98\n",
       "1         2     22901200000002          1.99\n",
       "2         3     22901200000003          1.99\n",
       "3         5     22901200000005          1.99\n",
       "4         6     22901200000006          1.99"
      ]
     },
     "execution_count": 12,
     "metadata": {},
     "output_type": "execute_result"
    }
   ],
   "source": [
    "first_deposit_via_agents['Deposit_Wage'] = 1.99\n",
    "first_Deposit_fees = first_deposit_via_agents[['Agent_ID', 'Agent_WalletNumber', 'Deposit_Wage']].groupby(['Agent_ID', 'Agent_WalletNumber']).sum().reset_index()\n",
    "first_Deposit_fees.head()"
   ]
  },
  {
   "cell_type": "code",
   "execution_count": 13,
   "id": "9a3938a4",
   "metadata": {},
   "outputs": [],
   "source": [
    "same_day_activities = new_accounts_via_agents[['Registration_Date', 'Customer_ID', 'Agent_ID', 'Agent_WalletNumber']].merge(\n",
    "    first_deposit_via_agents[['FirstDeposit_Date', 'Customer_ID', 'Agent_ID']], \n",
    "    on=['Customer_ID', 'Agent_ID'], \n",
    "    how='inner'\n",
    ")"
   ]
  },
  {
   "cell_type": "code",
   "execution_count": 14,
   "id": "8e935f8c",
   "metadata": {},
   "outputs": [
    {
     "data": {
      "text/html": [
       "<div>\n",
       "<style scoped>\n",
       "    .dataframe tbody tr th:only-of-type {\n",
       "        vertical-align: middle;\n",
       "    }\n",
       "\n",
       "    .dataframe tbody tr th {\n",
       "        vertical-align: top;\n",
       "    }\n",
       "\n",
       "    .dataframe thead th {\n",
       "        text-align: right;\n",
       "    }\n",
       "</style>\n",
       "<table border=\"1\" class=\"dataframe\">\n",
       "  <thead>\n",
       "    <tr style=\"text-align: right;\">\n",
       "      <th></th>\n",
       "      <th>Registration_Date</th>\n",
       "      <th>Customer_ID</th>\n",
       "      <th>Agent_ID</th>\n",
       "      <th>Agent_WalletNumber</th>\n",
       "      <th>FirstDeposit_Date</th>\n",
       "    </tr>\n",
       "  </thead>\n",
       "  <tbody>\n",
       "  </tbody>\n",
       "</table>\n",
       "</div>"
      ],
      "text/plain": [
       "Empty DataFrame\n",
       "Columns: [Registration_Date, Customer_ID, Agent_ID, Agent_WalletNumber, FirstDeposit_Date]\n",
       "Index: []"
      ]
     },
     "execution_count": 14,
     "metadata": {},
     "output_type": "execute_result"
    }
   ],
   "source": [
    "same_day_activities.head()"
   ]
  },
  {
   "cell_type": "code",
   "execution_count": 15,
   "id": "8927873b",
   "metadata": {},
   "outputs": [
    {
     "data": {
      "text/html": [
       "<div>\n",
       "<style scoped>\n",
       "    .dataframe tbody tr th:only-of-type {\n",
       "        vertical-align: middle;\n",
       "    }\n",
       "\n",
       "    .dataframe tbody tr th {\n",
       "        vertical-align: top;\n",
       "    }\n",
       "\n",
       "    .dataframe thead th {\n",
       "        text-align: right;\n",
       "    }\n",
       "</style>\n",
       "<table border=\"1\" class=\"dataframe\">\n",
       "  <thead>\n",
       "    <tr style=\"text-align: right;\">\n",
       "      <th></th>\n",
       "      <th>Agent_ID</th>\n",
       "      <th>Agent_WalletNumber</th>\n",
       "      <th>same_day_bonus</th>\n",
       "    </tr>\n",
       "  </thead>\n",
       "  <tbody>\n",
       "  </tbody>\n",
       "</table>\n",
       "</div>"
      ],
      "text/plain": [
       "Empty DataFrame\n",
       "Columns: [Agent_ID, Agent_WalletNumber, same_day_bonus]\n",
       "Index: []"
      ]
     },
     "execution_count": 15,
     "metadata": {},
     "output_type": "execute_result"
    }
   ],
   "source": [
    "same_day_activities['same_day_bonus'] = 0.99\n",
    "same_day_bonus_fees = same_day_activities[['Agent_ID', 'Agent_WalletNumber', 'same_day_bonus']].groupby(['Agent_ID', 'Agent_WalletNumber']).sum().reset_index()\n",
    "same_day_bonus_fees.head()"
   ]
  },
  {
   "cell_type": "code",
   "execution_count": 16,
   "id": "4722d304",
   "metadata": {},
   "outputs": [],
   "source": [
    "all_fees = registration_fees.merge(\n",
    "    first_Deposit_fees, \n",
    "    on=['Agent_ID', 'Agent_WalletNumber'], \n",
    "    how='outer', \n",
    "    suffixes=('_registration', '_first_deposit')\n",
    ").merge(\n",
    "    same_day_bonus_fees, \n",
    "    on=['Agent_ID', 'Agent_WalletNumber'], \n",
    "    how='outer'\n",
    ")\n",
    "all_fees.fillna(0, inplace=True)\n",
    "all_fees['Total_Fees'] = all_fees['Registration_Wage'] + all_fees['Deposit_Wage'] + all_fees['same_day_bonus']"
   ]
  },
  {
   "cell_type": "code",
   "execution_count": 17,
   "id": "b9332898",
   "metadata": {},
   "outputs": [],
   "source": [
    "all_fees.head()\n",
    "all_fees['Date'] = yesterday_start_datetime.date()\n",
    "all_fees['Description'] = 'Congratulation! You have earned a total amount of ' + all_fees['Total_Fees'].astype(str) + f' ECO for your acquisition operations of {yesterday_start_datetime.date()} as follow; New Registration: ' + all_fees['Registration_Wage'].astype(str) + ', First Deposit: ' + all_fees['Deposit_Wage'].astype(str) + ', Same Day Bonus: ' + all_fees['same_day_bonus'].astype(str)"
   ]
  },
  {
   "cell_type": "code",
   "execution_count": 18,
   "id": "185b3953",
   "metadata": {},
   "outputs": [
    {
     "data": {
      "text/plain": [
       "'Congratulation! You have earned a total amount of 9.96 ECO for your acquisition operations of 2025-05-30 as follow; New Registration: 5.98, First Deposit: 3.98, Same Day Bonus: 0.0'"
      ]
     },
     "execution_count": 18,
     "metadata": {},
     "output_type": "execute_result"
    }
   ],
   "source": [
    "all_fees.loc[0, 'Description']"
   ]
  },
  {
   "cell_type": "code",
   "execution_count": 19,
   "id": "a981bcc7",
   "metadata": {},
   "outputs": [],
   "source": [
    "payments_file = all_fees[['Agent_ID', 'Date', 'Agent_WalletNumber', 'Total_Fees', 'Description']].rename(\n",
    "    columns={\n",
    "        'Agent_ID': 'Agent_ID',\n",
    "        'Date': 'Operation_Date', \n",
    "        'Agent_WalletNumber': 'WalletNumber', \n",
    "        'Total_Fees': 'Amount', \n",
    "        'Description': 'Payment_Description'\n",
    "    }\n",
    ")"
   ]
  },
  {
   "cell_type": "code",
   "execution_count": 20,
   "id": "ea18d28c",
   "metadata": {},
   "outputs": [
    {
     "data": {
      "text/html": [
       "<div>\n",
       "<style scoped>\n",
       "    .dataframe tbody tr th:only-of-type {\n",
       "        vertical-align: middle;\n",
       "    }\n",
       "\n",
       "    .dataframe tbody tr th {\n",
       "        vertical-align: top;\n",
       "    }\n",
       "\n",
       "    .dataframe thead th {\n",
       "        text-align: right;\n",
       "    }\n",
       "</style>\n",
       "<table border=\"1\" class=\"dataframe\">\n",
       "  <thead>\n",
       "    <tr style=\"text-align: right;\">\n",
       "      <th></th>\n",
       "      <th>Agent_ID</th>\n",
       "      <th>Operation_Date</th>\n",
       "      <th>WalletNumber</th>\n",
       "      <th>Amount</th>\n",
       "      <th>Payment_Description</th>\n",
       "    </tr>\n",
       "  </thead>\n",
       "  <tbody>\n",
       "    <tr>\n",
       "      <th>0</th>\n",
       "      <td>1</td>\n",
       "      <td>2025-05-30</td>\n",
       "      <td>22901200000001</td>\n",
       "      <td>9.96</td>\n",
       "      <td>Congratulation! You have earned a total amount...</td>\n",
       "    </tr>\n",
       "    <tr>\n",
       "      <th>1</th>\n",
       "      <td>2</td>\n",
       "      <td>2025-05-30</td>\n",
       "      <td>22901200000002</td>\n",
       "      <td>10.96</td>\n",
       "      <td>Congratulation! You have earned a total amount...</td>\n",
       "    </tr>\n",
       "    <tr>\n",
       "      <th>2</th>\n",
       "      <td>3</td>\n",
       "      <td>2025-05-30</td>\n",
       "      <td>22901200000003</td>\n",
       "      <td>13.95</td>\n",
       "      <td>Congratulation! You have earned a total amount...</td>\n",
       "    </tr>\n",
       "    <tr>\n",
       "      <th>3</th>\n",
       "      <td>4</td>\n",
       "      <td>2025-05-30</td>\n",
       "      <td>22901200000004</td>\n",
       "      <td>2.99</td>\n",
       "      <td>Congratulation! You have earned a total amount...</td>\n",
       "    </tr>\n",
       "    <tr>\n",
       "      <th>4</th>\n",
       "      <td>5</td>\n",
       "      <td>2025-05-30</td>\n",
       "      <td>22901200000005</td>\n",
       "      <td>1.99</td>\n",
       "      <td>Congratulation! You have earned a total amount...</td>\n",
       "    </tr>\n",
       "  </tbody>\n",
       "</table>\n",
       "</div>"
      ],
      "text/plain": [
       "   Agent_ID Operation_Date    WalletNumber  Amount  \\\n",
       "0         1     2025-05-30  22901200000001    9.96   \n",
       "1         2     2025-05-30  22901200000002   10.96   \n",
       "2         3     2025-05-30  22901200000003   13.95   \n",
       "3         4     2025-05-30  22901200000004    2.99   \n",
       "4         5     2025-05-30  22901200000005    1.99   \n",
       "\n",
       "                                 Payment_Description  \n",
       "0  Congratulation! You have earned a total amount...  \n",
       "1  Congratulation! You have earned a total amount...  \n",
       "2  Congratulation! You have earned a total amount...  \n",
       "3  Congratulation! You have earned a total amount...  \n",
       "4  Congratulation! You have earned a total amount...  "
      ]
     },
     "execution_count": 20,
     "metadata": {},
     "output_type": "execute_result"
    }
   ],
   "source": [
    "payments_file.head()"
   ]
  },
  {
   "cell_type": "markdown",
   "id": "5a4e2a78",
   "metadata": {},
   "source": [
    "## Reporting"
   ]
  },
  {
   "cell_type": "code",
   "execution_count": 21,
   "id": "c45b4406",
   "metadata": {},
   "outputs": [],
   "source": [
    "# test_wb_id = create_sheet_get_id(\n",
    "#     sheet_title='Tuto - Python x Google Sheets',\n",
    "#     folder_id='1VuES2B8kVVw7Wfi458999hI1C50Zia5Y',  # Replace with your actual folder ID\n",
    "#     service_account_creds=sa_creds\n",
    "# )"
   ]
  },
  {
   "cell_type": "markdown",
   "id": "0281f9c2",
   "metadata": {},
   "source": [
    "### Payment file loading"
   ]
  },
  {
   "cell_type": "code",
   "execution_count": 22,
   "id": "cec6e25b",
   "metadata": {},
   "outputs": [],
   "source": [
    "payment_sheet_id = create_sheet_get_id(\n",
    "    sheet_title=f'Agent Payments {yesterday_start_datetime.date()}',\n",
    "    folder_id='1ijXSSDyYayKizn5L_ANYuwm9QNEUn9nD',  # Replace with your actual folder ID\n",
    "    service_account_creds=sa_creds\n",
    ")"
   ]
  },
  {
   "cell_type": "code",
   "execution_count": 28,
   "id": "f1b65fe3",
   "metadata": {},
   "outputs": [
    {
     "name": "stdout",
     "output_type": "stream",
     "text": [
      "Data for sheet 'Payments' has been written to the Google Sheet.\n"
     ]
    }
   ],
   "source": [
    "fill_sheet_with_pandas_dataframes(\n",
    "    sheet_id=payment_sheet_id,\n",
    "    data_frames_dict={\n",
    "        'Payments': payments_file\n",
    "    },\n",
    "    service_account_creds=sa_creds\n",
    ")"
   ]
  },
  {
   "cell_type": "code",
   "execution_count": 32,
   "id": "17924be9",
   "metadata": {},
   "outputs": [
    {
     "name": "stdout",
     "output_type": "stream",
     "text": [
      "Google Sheet shared with bola@isheero.com as reader.\n"
     ]
    }
   ],
   "source": [
    "share_google_sheet_with_message(\n",
    "    sheet_id=payment_sheet_id,\n",
    "    email_list=['bola@isheero.com'],\n",
    "    acess='reader',  # 'reader' or 'writer'\n",
    "    service_account_creds=sa_creds,\n",
    "    message=f'Hello, \\n\\nPlease find attached the payments for agents for {yesterday_start_datetime.date()}. \\n\\nBest regards,\\nIntelytix Team'\n",
    ")"
   ]
  },
  {
   "cell_type": "code",
   "execution_count": 29,
   "id": "2fc6d557",
   "metadata": {},
   "outputs": [],
   "source": [
    "performance_sheet_id = create_sheet_get_id(\n",
    "    sheet_title=f'Agent Performance {yesterday_start_datetime.date()}',\n",
    "    folder_id='1mvb_Q8fRzQ1pA60V1s1TtDYCYkDBdGR_',  # Replace with your actual folder ID\n",
    "    service_account_creds=sa_creds\n",
    ")"
   ]
  },
  {
   "cell_type": "code",
   "execution_count": 30,
   "id": "642a92d0",
   "metadata": {},
   "outputs": [
    {
     "name": "stdout",
     "output_type": "stream",
     "text": [
      "Data for sheet 'New Accounts' has been written to the Google Sheet.\n",
      "Data for sheet 'First Deposits' has been written to the Google Sheet.\n",
      "Data for sheet 'Same Day Activities' has been written to the Google Sheet.\n",
      "Data for sheet 'All Fees' has been written to the Google Sheet.\n"
     ]
    }
   ],
   "source": [
    "fill_sheet_with_pandas_dataframes(\n",
    "    sheet_id=performance_sheet_id,\n",
    "    data_frames_dict={\n",
    "        'New Accounts': new_accounts_via_agents,\n",
    "        'First Deposits': first_deposit_via_agents,\n",
    "        'Same Day Activities': same_day_activities,\n",
    "        'All Fees': all_fees\n",
    "    },\n",
    "    service_account_creds=sa_creds\n",
    ")"
   ]
  }
 ],
 "metadata": {
  "kernelspec": {
   "display_name": "base",
   "language": "python",
   "name": "python3"
  },
  "language_info": {
   "codemirror_mode": {
    "name": "ipython",
    "version": 3
   },
   "file_extension": ".py",
   "mimetype": "text/x-python",
   "name": "python",
   "nbconvert_exporter": "python",
   "pygments_lexer": "ipython3",
   "version": "3.12.7"
  }
 },
 "nbformat": 4,
 "nbformat_minor": 5
}
